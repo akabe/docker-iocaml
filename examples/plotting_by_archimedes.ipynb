{
 "cells": [
  {
   "cell_type": "markdown",
   "metadata": {},
   "source": [
    "# Plotting by Archimedes\n",
    "\n",
    "[Archimedes](http://archimedes.forge.ocamlcore.org/) is an OCaml library for plotting high-quality 2D graphs.\n",
    "You can embed graphs as PNG image in Jupyter notebooks.\n",
    "\n",
    "Before execution of this notebook, you need to install the following packages:\n",
    "\n",
    "```\n",
    "sudo apk add --no-cache cairo-dev\n",
    "opam install -y cairo2 archimedes\n",
    "```"
   ]
  },
  {
   "cell_type": "code",
   "execution_count": 1,
   "metadata": {},
   "outputs": [
    {
     "name": "stderr",
     "output_type": "stream",
     "text": [
      "/home/opam/.opam/4.04.1/lib/ocaml/unix.cma: loaded\n",
      "/home/opam/.opam/4.04.1/lib/easy-format: added to search path\n",
      "/home/opam/.opam/4.04.1/lib/easy-format/easy_format.cmo: loaded\n",
      "/home/opam/.opam/4.04.1/lib/biniou: added to search path\n",
      "/home/opam/.opam/4.04.1/lib/biniou/biniou.cma: loaded\n",
      "/home/opam/.opam/4.04.1/lib/yojson: added to search path\n",
      "/home/opam/.opam/4.04.1/lib/yojson/yojson.cmo: loaded\n",
      "/home/opam/.opam/4.04.1/lib/ocaml/str.cma: loaded\n",
      "/home/opam/.opam/4.04.1/lib/atd: added to search path\n",
      "/home/opam/.opam/4.04.1/lib/atd/atd.cma: loaded\n",
      "/home/opam/.opam/4.04.1/lib/atdgen: added to search path\n",
      "/home/opam/.opam/4.04.1/lib/atdgen/atdgen.cma: loaded\n",
      "/home/opam/.opam/4.04.1/lib/bytes: added to search path\n",
      "/home/opam/.opam/4.04.1/lib/result: added to search path\n",
      "/home/opam/.opam/4.04.1/lib/result/result.cma: loaded\n",
      "/home/opam/.opam/4.04.1/lib/lwt: added to search path\n",
      "/home/opam/.opam/4.04.1/lib/lwt/lwt.cma: loaded\n",
      "/home/opam/.opam/4.04.1/lib/lwt/lwt-log.cma: loaded\n",
      "/home/opam/.opam/4.04.1/lib/ocaml/bigarray.cma: loaded\n",
      "/home/opam/.opam/4.04.1/lib/lwt/lwt-unix.cma: loaded\n",
      "/home/opam/.opam/4.04.1/lib/ctypes: added to search path\n",
      "/home/opam/.opam/4.04.1/lib/ctypes/ctypes.cma: loaded\n",
      "/home/opam/.opam/4.04.1/lib/ctypes/ctypes-top.cma: loaded\n",
      "/home/opam/.opam/4.04.1/lib/ctypes/ctypes-foreign-base.cma: loaded\n",
      "/home/opam/.opam/4.04.1/lib/ctypes/ctypes-foreign-unthreaded.cma: loaded\n",
      "/home/opam/.opam/4.04.1/lib/iocaml-kernel: added to search path\n",
      "/home/opam/.opam/4.04.1/lib/iocaml-kernel/iocaml_lib.cma: loaded\n",
      "/home/opam/.opam/4.04.1/lib/cairo2: added to search path\n",
      "/home/opam/.opam/4.04.1/lib/cairo2/cairo2.cma: loaded\n",
      "/home/opam/.opam/4.04.1/lib/ocaml/dynlink.cma: loaded\n",
      "/home/opam/.opam/4.04.1/lib/ocaml/camlp4: added to search path\n",
      "/home/opam/.opam/4.04.1/lib/archimedes: added to search path\n",
      "/home/opam/.opam/4.04.1/lib/archimedes/archimedes_internals.cma: loaded\n",
      "/home/opam/.opam/4.04.1/lib/archimedes/archimedes_toploop.cma: loaded\n",
      "Module Archimedes loaded and aliased as A.\n",
      "/home/opam/.opam/4.04.1/lib/archimedes/archimedes_cairo.cma: loaded\n"
     ]
    }
   ],
   "source": [
    "#require \"iocaml-kernel\";;\n",
    "#require \"archimedes.cairo\";;"
   ]
  },
  {
   "cell_type": "code",
   "execution_count": 2,
   "metadata": {},
   "outputs": [
    {
     "data": {
      "text/html": [
       "<pre style=\"color:slategray;max-height:100px;overflow:hidden\" \n",
       "onclick=\"\n",
       "if (this.style.maxHeight === 'none') \n",
       "    this.style.maxHeight = '100px';\n",
       "else\n",
       "    this.style.maxHeight = 'none'; \n",
       "\">module R : sig  end\n",
       "</pre>"
      ]
     },
     "execution_count": 2,
     "metadata": {},
     "output_type": "execute_result"
    }
   ],
   "source": [
    "(* User-defined Archimedes backend \"iocaml\" *)\n",
    "module R = Archimedes.Backend.Register(struct\n",
    "  include Archimedes_cairo.B\n",
    "  let name = \"iocaml\"\n",
    "  let close ~options b =\n",
    "    let ctx : Cairo.context = Obj.magic b in\n",
    "    let surf = Cairo.get_target ctx in\n",
    "    Cairo.PNG.write_to_stream surf ~output:(output_string Iocaml.mime);\n",
    "    Archimedes_cairo.B.close ~options b;\n",
    "    Iocaml.send_mime ~base64:true \"image/png\"\n",
    "end)"
   ]
  },
  {
   "cell_type": "code",
   "execution_count": 3,
   "metadata": {},
   "outputs": [
    {
     "data": {
      "image/png": "[encoded data removed]"
     },
     "metadata": {},
     "output_type": "display_data"
    },
    {
     "data": {
      "text/html": [
       "<pre style=\"color:slategray;max-height:100px;overflow:hidden\" \n",
       "onclick=\"\n",
       "if (this.style.maxHeight === 'none') \n",
       "    this.style.maxHeight = '100px';\n",
       "else\n",
       "    this.style.maxHeight = 'none'; \n",
       "\">- : unit = ()\n",
       "</pre>"
      ]
     },
     "execution_count": 3,
     "metadata": {},
     "output_type": "execute_result"
    }
   ],
   "source": [
    "let vp = A.init ~w:500. ~h:300. [\"iocaml\"] in\n",
    "A.Axes.box vp;\n",
    "A.fx vp sin 0. 10.;\n",
    "A.close vp"
   ]
  },
  {
   "cell_type": "code",
   "execution_count": null,
   "metadata": {
    "collapsed": true
   },
   "outputs": [],
   "source": []
  }
 ],
 "metadata": {
  "kernelspec": {
   "display_name": "OCaml",
   "language": "ocaml",
   "name": "iocaml-kernel"
  },
  "language_info": {
   "name": "ocaml",
   "version": "4.1.0"
  }
 },
 "nbformat": 4,
 "nbformat_minor": 2
}
