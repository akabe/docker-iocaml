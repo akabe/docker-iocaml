{
 "cells": [
  {
   "cell_type": "markdown",
   "metadata": {},
   "source": [
    "# Plotting by Chart.js\n",
    "\n",
    "[Chart.js](http://www.chartjs.org/) is a JavaScript library for plotting a high-quality and interactive 2D graphs."
   ]
  },
  {
   "cell_type": "code",
   "execution_count": 1,
   "metadata": {},
   "outputs": [
    {
     "name": "stderr",
     "output_type": "stream",
     "text": [
      "/home/opam/.opam/4.04.1/lib/ocaml/unix.cma: loaded\n",
      "/home/opam/.opam/4.04.1/lib/easy-format: added to search path\n",
      "/home/opam/.opam/4.04.1/lib/easy-format/easy_format.cmo: loaded\n",
      "/home/opam/.opam/4.04.1/lib/biniou: added to search path\n",
      "/home/opam/.opam/4.04.1/lib/biniou/biniou.cma: loaded\n",
      "/home/opam/.opam/4.04.1/lib/yojson: added to search path\n",
      "/home/opam/.opam/4.04.1/lib/yojson/yojson.cmo: loaded\n",
      "/home/opam/.opam/4.04.1/lib/ocaml/str.cma: loaded\n",
      "/home/opam/.opam/4.04.1/lib/atd: added to search path\n",
      "/home/opam/.opam/4.04.1/lib/atd/atd.cma: loaded\n",
      "/home/opam/.opam/4.04.1/lib/atdgen: added to search path\n",
      "/home/opam/.opam/4.04.1/lib/atdgen/atdgen.cma: loaded\n",
      "/home/opam/.opam/4.04.1/lib/bytes: added to search path\n",
      "/home/opam/.opam/4.04.1/lib/result: added to search path\n",
      "/home/opam/.opam/4.04.1/lib/result/result.cma: loaded\n",
      "/home/opam/.opam/4.04.1/lib/lwt: added to search path\n",
      "/home/opam/.opam/4.04.1/lib/lwt/lwt.cma: loaded\n",
      "/home/opam/.opam/4.04.1/lib/lwt/lwt-log.cma: loaded\n",
      "/home/opam/.opam/4.04.1/lib/ocaml/bigarray.cma: loaded\n",
      "/home/opam/.opam/4.04.1/lib/lwt/lwt-unix.cma: loaded\n",
      "/home/opam/.opam/4.04.1/lib/ctypes: added to search path\n",
      "/home/opam/.opam/4.04.1/lib/ctypes/ctypes.cma: loaded\n",
      "/home/opam/.opam/4.04.1/lib/ctypes/ctypes-top.cma: loaded\n",
      "/home/opam/.opam/4.04.1/lib/ctypes/ctypes-foreign-base.cma: loaded\n",
      "/home/opam/.opam/4.04.1/lib/ctypes/ctypes-foreign-unthreaded.cma: loaded\n",
      "/home/opam/.opam/4.04.1/lib/iocaml-kernel: added to search path\n",
      "/home/opam/.opam/4.04.1/lib/iocaml-kernel/iocaml_lib.cma: loaded\n"
     ]
    }
   ],
   "source": [
    "#require \"iocaml-kernel\""
   ]
  },
  {
   "cell_type": "code",
   "execution_count": 2,
   "metadata": {},
   "outputs": [
    {
     "data": {
      "text/html": [
       "<script>require.config({ paths: {'chartjs': 'https://cdnjs.cloudflare.com/ajax/libs/Chart.js/2.5.0/Chart.bundle.min'} }); </script>"
      ]
     },
     "metadata": {},
     "output_type": "display_data"
    },
    {
     "data": {
      "text/html": [
       "<pre style=\"color:slategray;max-height:100px;overflow:hidden\" \n",
       "onclick=\"\n",
       "if (this.style.maxHeight === 'none') \n",
       "    this.style.maxHeight = '100px';\n",
       "else\n",
       "    this.style.maxHeight = 'none'; \n",
       "\">- : unit = ()\n",
       "</pre>"
      ]
     },
     "execution_count": 2,
     "metadata": {},
     "output_type": "execute_result"
    }
   ],
   "source": [
    "(* Load Chart.js from Cloudflare CDN *)\n",
    "Iocaml.display \"text/html\"\n",
    "  \"<script>\\\n",
    "   require.config({ paths: {'chartjs': 'https://cdnjs.cloudflare.com/ajax/libs/Chart.js/2.5.0/Chart.bundle.min'} }); \\\n",
    "   </script>\""
   ]
  },
  {
   "cell_type": "code",
   "execution_count": 3,
   "metadata": {},
   "outputs": [
    {
     "data": {
      "text/html": [
       "<canvas id='myChart'></canvas><script>requirejs(['chartjs'], function(Chart) { var c = document.getElementById('myChart'); c.width = 500;c.height = 300;var myChart = new Chart(c, { type: 'bar', data: { labels: ['Red', 'Blue', 'Yellow', 'Green', 'Purple', 'Orange'], datasets: [{ label: '# of Votes', data: [12, 19, 3, 5, 2, 3], backgroundColor: [ 'rgba(255, 99, 132, 0.2)', 'rgba(54, 162, 235, 0.2)', 'rgba(255, 206, 86, 0.2)', 'rgba(75, 192, 192, 0.2)', 'rgba(153, 102, 255, 0.2)', 'rgba(255, 159, 64, 0.2)' ], borderColor: [ 'rgba(255,99,132,1)', 'rgba(54, 162, 235, 1)', 'rgba(255, 206, 86, 1)', 'rgba(75, 192, 192, 1)', 'rgba(153, 102, 255, 1)', 'rgba(255, 159, 64, 1)' ], borderWidth: 1 }] }, options: { responsive: false } }); }); </script>"
      ]
     },
     "metadata": {},
     "output_type": "display_data"
    },
    {
     "data": {
      "text/html": [
       "<pre style=\"color:slategray;max-height:100px;overflow:hidden\" \n",
       "onclick=\"\n",
       "if (this.style.maxHeight === 'none') \n",
       "    this.style.maxHeight = '100px';\n",
       "else\n",
       "    this.style.maxHeight = 'none'; \n",
       "\">- : unit = ()\n",
       "</pre>"
      ]
     },
     "execution_count": 3,
     "metadata": {},
     "output_type": "execute_result"
    }
   ],
   "source": [
    "Iocaml.display \"text/html\"\n",
    "  \"<canvas id='myChart'></canvas>\\\n",
    "   <script>\\\n",
    "     requirejs(['chartjs'], function(Chart) { \\\n",
    "       var c = document.getElementById('myChart'); \\\n",
    "       c.width = 500;\\\n",
    "       c.height = 300;\\\n",
    "       var myChart = new Chart(c, { \\\n",
    "         type: 'bar', \\\n",
    "         data: { \\\n",
    "         labels: ['Red', 'Blue', 'Yellow', 'Green', 'Purple', 'Orange'], \\\n",
    "         datasets: [{ \\\n",
    "             label: '# of Votes', \\\n",
    "             data: [12, 19, 3, 5, 2, 3], \\\n",
    "             backgroundColor: [ \\\n",
    "                 'rgba(255, 99, 132, 0.2)', \\\n",
    "                 'rgba(54, 162, 235, 0.2)', \\\n",
    "                 'rgba(255, 206, 86, 0.2)', \\\n",
    "                 'rgba(75, 192, 192, 0.2)', \\\n",
    "                 'rgba(153, 102, 255, 0.2)', \\\n",
    "                 'rgba(255, 159, 64, 0.2)' \\\n",
    "             ], \\\n",
    "             borderColor: [ \\\n",
    "                 'rgba(255,99,132,1)', \\\n",
    "                 'rgba(54, 162, 235, 1)', \\\n",
    "                 'rgba(255, 206, 86, 1)', \\\n",
    "                 'rgba(75, 192, 192, 1)', \\\n",
    "                 'rgba(153, 102, 255, 1)', \\\n",
    "                 'rgba(255, 159, 64, 1)' \\\n",
    "             ], \\\n",
    "             borderWidth: 1 \\\n",
    "           }] \\\n",
    "         }, \\\n",
    "         options: { \\\n",
    "           responsive: false \\\n",
    "         } \\\n",
    "       }); \\\n",
    "     }); \\\n",
    "   </script>\""
   ]
  },
  {
   "cell_type": "code",
   "execution_count": null,
   "metadata": {
    "collapsed": true
   },
   "outputs": [],
   "source": []
  }
 ],
 "metadata": {
  "kernelspec": {
   "display_name": "OCaml",
   "language": "ocaml",
   "name": "iocaml-kernel"
  },
  "language_info": {
   "name": "ocaml",
   "version": "4.1.0"
  }
 },
 "nbformat": 4,
 "nbformat_minor": 2
}
